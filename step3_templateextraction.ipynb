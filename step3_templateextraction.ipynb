{
 "cells": [
  {
   "cell_type": "code",
   "execution_count": null,
   "metadata": {},
   "outputs": [],
   "source": [
    "import pandas as pd\n",
    "df = pd.read_csv('clean_data.csv', lineterminator='\\n')"
   ]
  },
  {
   "cell_type": "code",
   "execution_count": null,
   "metadata": {},
   "outputs": [],
   "source": [
    "from random import randrange\n",
    "from pprint import pprint"
   ]
  },
  {
   "cell_type": "code",
   "execution_count": null,
   "metadata": {},
   "outputs": [],
   "source": [
    "x = randrange(0, len(df)-1)\n",
    "pd.set_option('display.max_colwidth', None)\n",
    "display(df[x:x+1])"
   ]
  },
  {
   "cell_type": "code",
   "execution_count": null,
   "metadata": {},
   "outputs": [],
   "source": [
    "import spacy\n",
    "from spacy import displacy\n",
    "from pathlib import Path\n",
    "nlp = spacy.load(\"en_core_web_sm\")"
   ]
  },
  {
   "cell_type": "code",
   "execution_count": 3,
   "metadata": {},
   "outputs": [],
   "source": [
    "import spacy\n",
    "from spacy import displacy\n",
    "\n",
    "nlp = spacy.load(\"en_core_web_sm\")"
   ]
  },
  {
   "cell_type": "code",
   "execution_count": 6,
   "metadata": {},
   "outputs": [
    {
     "data": {
      "text/plain": [
       "5507"
      ]
     },
     "execution_count": 6,
     "metadata": {},
     "output_type": "execute_result"
    }
   ],
   "source": [
    "from pathlib import Path\n",
    "doc = nlp(\"Why did the chicken cross the road?\")\n",
    "svg = displacy.render(doc, style=\"dep\", jupyter=False)\n",
    "\n",
    "output_path = Path(\"dependency_plot.svg\") # you can keep there only \"dependency_plot.svg\" if you want to save it in the same folder where you run the script \n",
    "output_path.open(\"w\", encoding=\"utf-8\").write(svg)"
   ]
  },
  {
   "cell_type": "code",
   "execution_count": null,
   "metadata": {},
   "outputs": [],
   "source": [
    "wordlistfile = open('wordlist.txt', 'r')\n",
    "nonflatwordlist = [line.split() for line in wordlistfile.readlines()]\n",
    "wordlist = [word for sublist in nonflatwordlist for word in sublist]"
   ]
  },
  {
   "cell_type": "code",
   "execution_count": null,
   "metadata": {},
   "outputs": [],
   "source": [
    "wordlist[:5]"
   ]
  },
  {
   "cell_type": "code",
   "execution_count": null,
   "metadata": {},
   "outputs": [],
   "source": [
    "wordlist.index('brother')"
   ]
  },
  {
   "cell_type": "code",
   "execution_count": null,
   "metadata": {},
   "outputs": [],
   "source": [
    "from math import log10"
   ]
  },
  {
   "cell_type": "code",
   "execution_count": null,
   "metadata": {},
   "outputs": [],
   "source": [
    "from copy import copy"
   ]
  },
  {
   "cell_type": "code",
   "execution_count": null,
   "metadata": {},
   "outputs": [],
   "source": [
    "from nltk.corpus import stopwords\n",
    "stopwords = stopwords.words('english')\n"
   ]
  },
  {
   "cell_type": "code",
   "execution_count": null,
   "metadata": {},
   "outputs": [],
   "source": [
    "def templatify(text,deps, tags, ents):\n",
    "    \"\"\"\n",
    "    The ratio between replacable and not-replaced tokens should be greater than or equal to 1:2\n",
    "    Order of precedence is *nsubj > *pobj > *dobj > isolated adjectives > *verbs\n",
    "    * denotes that it will include any immediate modifiers\n",
    "    All named entities will be replaced\n",
    "    \"\"\"\n",
    "    text = text.split()\n",
    "    deps = deps.split()\n",
    "    tags = tags.split()\n",
    "    ents = ents.split()\n",
    "    j = 0\n",
    "    total_tokens = len(text)\n",
    "    while True:\n",
    "        if j == total_tokens - 1:\n",
    "            break\n",
    "        if tags[j]=='JJ':\n",
    "            if tags[j+1]=='JJ' or tags[j+1][:2]=='NN':\n",
    "                text.pop(j)\n",
    "                deps.pop(j)\n",
    "                tags.pop(j)\n",
    "                ents.pop(j)\n",
    "                j-=1\n",
    "                total_tokens -= 1\n",
    "        j+=1\n",
    "    total_tokens = len(text)\n",
    "    entities = 0\n",
    "    weights = [0] * total_tokens\n",
    "    for i in range(total_tokens-1):\n",
    "        if tags[i][:2]=='NN' or tags[i][:2]=='VB' or tags[i][:2]=='JJ':\n",
    "            if text[i] not in ['\\'s','\\'d'] and text[i] not in stopwords:\n",
    "                entities+=1\n",
    "    for i in range(total_tokens):\n",
    "        \"\"\"\n",
    "        ne = 10\n",
    "        nsubj = 5\n",
    "        pobj = 4\n",
    "        dobj = 3\n",
    "        adj = 2\n",
    "        verb = 1\n",
    "        \n",
    "        commonscore = log_10(rank) * 2.5\n",
    "        \n",
    "        final = posscore * commonscore\n",
    "        \"\"\"\n",
    "        if tags[i][:2]=='NN':\n",
    "            if deps[i]=='nsubj':\n",
    "                weights[i] = 5\n",
    "            if deps[i]=='pobj':\n",
    "                weights[i] = 4\n",
    "            else:\n",
    "                weights[i] = 3\n",
    "        elif tags[i][:2]=='JJ':\n",
    "            weights[i]  = 2\n",
    "        elif tags[i][:2]=='VB':\n",
    "            weights[i] = 1\n",
    "        if ents[i]!='None' and ents[i]!='CARDINAL':\n",
    "            weights[i] = 10\n",
    "        try:\n",
    "            rank = wordlist.index(text[i])\n",
    "            common_score = round(log10(rank+1)*2.5,2)\n",
    "        except:\n",
    "            common_score = weights[i]\n",
    "        weights[i] *= common_score\n",
    "    desired = entities/3\n",
    "    template = copy(text)\n",
    "    k = 0\n",
    "    while k<=desired:\n",
    "        i = weights.index(max(weights))\n",
    "        weights[i] = -1\n",
    "        template[i] = \"[MASK]\"\n",
    "        k+=1\n",
    "    #print(entities, total_tokens)     \n",
    "    #print(text, weights)\n",
    "    template = ' '.join(template)\n",
    "    return template"
   ]
  },
  {
   "cell_type": "code",
   "execution_count": null,
   "metadata": {},
   "outputs": [],
   "source": [
    "x = randrange(0, len(df)-1)\n",
    "x = 49\n",
    "print(x)\n",
    "setup = df.at[x,'setup_text']\n",
    "setup_dep = df.at[x,'setup_dep']\n",
    "setup_tags = df.at[x,'setup_postags']\n",
    "setup_ents = df.at[x,'setup_nertype']\n",
    "punch = df.at[x,'punch_text']\n",
    "punch_dep = df.at[x,'punch_dep']\n",
    "punch_tags = df.at[x,'punch_postags']\n",
    "punch_ents = df.at[x,'punch_nertype']\n",
    "#print(setup, setup_tags)\n",
    "setup_temp = templatify(setup, setup_dep, setup_tags, setup_ents)\n",
    "punch_temp = templatify(punch, punch_dep, punch_tags, punch_ents)\n",
    "print(setup_temp+' '+punch_temp)\n",
    "# print(setup,'\\n', punch, sep='')\n",
    "# print(setup_dep,'\\n', punch_dep, sep='')\n",
    "# setup_parse = nlp(setup)\n",
    "# punch_parse = nlp(punch)\n",
    "# options = {\"bg\": \"#ffffff\"}\n",
    "# displacy.render(setup_parse, style=\"dep\", options=options)\n",
    "# displacy.render(punch_parse, style=\"dep\", options=options)"
   ]
  },
  {
   "cell_type": "code",
   "execution_count": null,
   "metadata": {},
   "outputs": [],
   "source": [
    "all_templates = []"
   ]
  },
  {
   "cell_type": "code",
   "execution_count": null,
   "metadata": {},
   "outputs": [],
   "source": [
    "for x, row in df.iterrows():\n",
    "    setup = df.at[x,'setup_text']\n",
    "    setup = setup.lower()\n",
    "    setup_dep = df.at[x,'setup_dep']\n",
    "    setup_tags = df.at[x,'setup_postags']\n",
    "    setup_ents = df.at[x,'setup_nertype']\n",
    "    punch = df.at[x,'punch_text']\n",
    "    punch = punch.lower()\n",
    "    punch_dep = df.at[x,'punch_dep']\n",
    "    punch_tags = df.at[x,'punch_postags']\n",
    "    punch_ents = df.at[x,'punch_nertype']\n",
    "    setup_temp = templatify(setup, setup_dep, setup_tags, setup_ents)\n",
    "    punch_temp = templatify(punch, punch_dep, punch_tags, punch_ents)\n",
    "    masked_string = setup_temp + ' ' + punch_temp\n",
    "    all_templates.append(masked_string)\n",
    "    if x%5000==0:\n",
    "        print(x)"
   ]
  },
  {
   "cell_type": "code",
   "execution_count": null,
   "metadata": {},
   "outputs": [],
   "source": [
    "with open('my_templates.txt', 'w') as f:\n",
    "    for item in all_templates:\n",
    "        f.write(\"%s\\n\" % item)"
   ]
  },
  {
   "cell_type": "code",
   "execution_count": null,
   "metadata": {},
   "outputs": [],
   "source": []
  }
 ],
 "metadata": {
  "kernelspec": {
   "display_name": "Python 3",
   "language": "python",
   "name": "python3"
  }
 },
 "nbformat": 4,
 "nbformat_minor": 4
}
