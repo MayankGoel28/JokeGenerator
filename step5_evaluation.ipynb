{
 "cells": [
  {
   "cell_type": "code",
   "execution_count": 1,
   "metadata": {},
   "outputs": [],
   "source": [
    "f1 = open('human_jokes.txt','r')\n",
    "f2 = open('bert_jokes.txt','r')\n",
    "\n",
    "human = f1.read().split('\\n')\n",
    "computer = f2.read().split('\\n')\n",
    "\n",
    "human = human[501:]\n",
    "computer = computer [51:]\n",
    "\n",
    "from random import choice\n",
    "\n",
    "total, tp, tn, fp, fn = 0,0,0,0,0\n",
    "\n",
    "while 1:\n",
    "    file = choice([human, computer])\n",
    "    joke = choice(file)\n",
    "    print(joke)\n",
    "    user_c = input()\n",
    "    user_c = user_c.lower()\n",
    "    if user_c=='q':\n",
    "        name = input(\"Enter Name\")\n",
    "        print(\"Evaluated jokes:\",total,\"by\",name)\n",
    "        print(\"Precision:\",tp/(tp+fp))\n",
    "        print(\"Recall:\",tp/(tp+fn))\n",
    "        print(\"For refernce\",tp/(tp+fn),tn/(tn+fp))\n",
    "        break\n",
    "    total += 1\n",
    "    if user_c=='c':\n",
    "        if file==computer:\n",
    "            tp+=1\n",
    "            print(\"tp\")\n",
    "        else:\n",
    "            fp+=1\n",
    "            print(\"fp\")\n",
    "    if user_c=='h':\n",
    "        if file==human:\n",
    "            tn+=1\n",
    "            print(\"tn\")\n",
    "        else:\n",
    "            fn+=1\n",
    "            print(\"fn\")"
   ]
  }
 ],
 "metadata": {
  "kernelspec": {
   "display_name": "Python 3",
   "language": "python",
   "name": "python3"
  },
  "language_info": {
   "codemirror_mode": {
    "name": "ipython",
    "version": 3
   },
   "file_extension": ".py",
   "mimetype": "text/x-python",
   "name": "python",
   "nbconvert_exporter": "python",
   "pygments_lexer": "ipython3",
   "version": "3.8.6"
  }
 },
 "nbformat": 4,
 "nbformat_minor": 4
}
