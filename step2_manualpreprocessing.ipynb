{
 "cells": [
  {
   "cell_type": "code",
   "execution_count": 2,
   "metadata": {
    "scrolled": true
   },
   "outputs": [],
   "source": [
    "import pandas as pd\n",
    "df = pd.read_csv('clean_data.csv', lineterminator='\\n')"
   ]
  },
  {
   "cell_type": "code",
   "execution_count": 83,
   "metadata": {},
   "outputs": [],
   "source": [
    "new_data = []"
   ]
  },
  {
   "cell_type": "code",
   "execution_count": 3,
   "metadata": {},
   "outputs": [
    {
     "name": "stdout",
     "output_type": "stream",
     "text": [
      "Unnamed: 0                                                    1859\n",
      "setup_text       What do the final scene of titanic and the iPh...\n",
      "setup_postags      WP VBP DT JJ NN IN NNP CC DT NNP CD VBP IN JJ .\n",
      "setup_dep        dobj aux det amod nsubj prep pobj cc det conj ...\n",
      "setup_nertype    None None None None None None None None None N...\n",
      "punch_text                        They both could 've fit the jack\n",
      "punch_postags                                PRP DT MD VB JJ DT NN\n",
      "punch_dep                        nsubj appos aux aux ROOT det dobj\n",
      "punch_nertype                   None None None None None None None\n",
      "Name: 1859, dtype: object\n",
      "Unnamed: 0                                                    1860\n",
      "setup_text       What do you say to an overworked clothing maker ?\n",
      "setup_postags                      WP VBP PRP VB IN DT VBN NN NN .\n",
      "setup_dep        dobj aux nsubj ROOT prep det amod compound pob...\n",
      "setup_nertype    None None None None None None None None None None\n",
      "punch_text                                      You seamstressed .\n",
      "punch_postags                                            PRP VBD .\n",
      "punch_dep                                         nsubj ROOT punct\n",
      "punch_nertype                                       None None None\n",
      "Name: 1860, dtype: object\n",
      "Unnamed: 0                                                   1861\n",
      "setup_text                What did one snowman say to the other ?\n",
      "setup_postags                          WP VBD CD NN VB IN DT JJ .\n",
      "setup_dep          dobj aux nummod nsubj ROOT prep det pobj punct\n",
      "setup_nertype    None None CARDINAL None None None None None None\n",
      "punch_text                        Weird . I smell carrots , too .\n",
      "punch_postags                             JJ . PRP VBP NNS , RB .\n",
      "punch_dep           ROOT punct nsubj ROOT dobj punct advmod punct\n",
      "punch_nertype             None None None None None None None None\n",
      "Name: 1861, dtype: object\n",
      "Unnamed: 0                                                    1862\n",
      "setup_text       If you have a sexy salad , what do you put on ...\n",
      "setup_postags         IN PRP VBP DT JJ NN , WP VBP PRP VB IN PRP .\n",
      "setup_dep        mark nsubj advcl det amod dobj punct dobj aux ...\n",
      "setup_nertype    None None None None None None None None None N...\n",
      "punch_text                                    Hidden Valley Raunch\n",
      "punch_postags                                          NNP NNP NNP\n",
      "punch_dep                                   compound compound ROOT\n",
      "punch_nertype                                          LOC LOC LOC\n",
      "Name: 1862, dtype: object\n",
      "Unnamed: 0                                            1863\n",
      "setup_text           Where does the king keep his armies ?\n",
      "setup_postags                  WRB VBZ DT NN VB PRP$ NNS .\n",
      "setup_dep        advmod aux det nsubj ROOT poss dobj punct\n",
      "setup_nertype      None None None None None None None None\n",
      "punch_text                                 Up his sleevies\n",
      "punch_postags                                  IN PRP$ NNS\n",
      "punch_dep                                   ROOT poss pobj\n",
      "punch_nertype                               None None None\n",
      "Name: 1863, dtype: object\n",
      "Unnamed: 0                                                    1864\n",
      "setup_text               Why did the guitar teacher get arrested ?\n",
      "setup_postags                            WRB VBD DT NN NN VB VBN .\n",
      "setup_dep        advmod aux det compound nsubjpass auxpass ROOT...\n",
      "setup_nertype              None None None None None None None None\n",
      "punch_text                                 For fingering A minor .\n",
      "punch_postags                                       IN VBG DT NN .\n",
      "punch_dep                                ROOT pcomp det dobj punct\n",
      "punch_nertype                             None None None None None\n",
      "Name: 1864, dtype: object\n",
      "Unnamed: 0                                                    1865\n",
      "setup_text                        What did JFK say to his driver ?\n",
      "setup_postags                           WP VBD NNP VB IN PRP$ NN .\n",
      "setup_dep                 dobj aux nsubj ROOT prep poss pobj punct\n",
      "setup_nertype            None None PERSON None None None None None\n",
      "punch_text                    It 's a good day to take the top off\n",
      "punch_postags                      PRP VBZ DT JJ NN TO VB DT NN RP\n",
      "punch_dep          nsubj ROOT det amod attr aux xcomp det dobj prt\n",
      "punch_nertype    None None DATE DATE DATE None None None None None\n",
      "Name: 1865, dtype: object\n",
      "Unnamed: 0                                                    1866\n",
      "setup_text       What did the Jewish Mexican call his non - Jew...\n",
      "setup_postags               WP VBD DT JJ JJ VB PRP$ JJ JJ JJ NNS .\n",
      "setup_dep        dobj aux det amod nsubj ROOT poss dep dep amod...\n",
      "setup_nertype    None None None NORP NORP None None NORP NORP N...\n",
      "punch_text                                           His amigoys .\n",
      "punch_postags                                           PRP$ NNS .\n",
      "punch_dep                                          poss ROOT punct\n",
      "punch_nertype                                       None None None\n",
      "Name: 1866, dtype: object\n",
      "Unnamed: 0                                                 1867\n",
      "setup_text                    Why are gingers ' feet so rough ?\n",
      "setup_postags                       WRB VBP NNS POS NNS RB JJ .\n",
      "setup_dep        advmod ROOT poss case nsubj advmod acomp punct\n",
      "setup_nertype           None None None None None None None None\n",
      "punch_text                           Because they have no soles\n",
      "punch_postags                                 IN PRP VBP DT NNS\n",
      "punch_dep                              mark nsubj ROOT det dobj\n",
      "punch_nertype                          None None None None None\n",
      "Name: 1867, dtype: object\n",
      "Unnamed: 0                                                  1868\n",
      "setup_text                What 's Irish and stays out all year ?\n",
      "setup_postags                        WP VBZ JJ CC VBZ RP DT NN .\n",
      "setup_dep        nsubj ROOT acomp cc conj prt det npadvmod punct\n",
      "setup_nertype       None None NORP None None None DATE DATE None\n",
      "punch_text                                   Patty O'furniture .\n",
      "punch_postags                                           NNP NN .\n",
      "punch_dep                                    compound ROOT punct\n",
      "punch_nertype                                   PERSON None None\n",
      "Name: 1868, dtype: object\n",
      "Unnamed: 0                                                  1869\n",
      "setup_text                  Why do people like Hillary Clinton ?\n",
      "setup_postags                           WRB VBP NNS IN NNP NNP .\n",
      "setup_dep              advmod ROOT pobj prep compound pobj punct\n",
      "setup_nertype             None None None None PERSON PERSON None\n",
      "punch_text                  When she ca n't even stand herself ?\n",
      "punch_postags                          WRB PRP MD RB RB VB PRP .\n",
      "punch_dep        advmod nsubj aux neg advmod ROOT npadvmod punct\n",
      "punch_nertype            None None None None None None None None\n",
      "Name: 1869, dtype: object\n"
     ]
    }
   ],
   "source": [
    "start = randrange(40000)\n",
    "end = start + 10\n",
    "err = 0\n",
    "for index, row in df.iterrows():\n",
    "    if index%10000==0:\n",
    "        print(row.to_dict())\n",
    "        print(index)\n",
    "    try:\n",
    "        puntextc = len(row.punch_text.split())\n",
    "        settextc = len(row.setup_text.split())\n",
    "        puntagc = len(row.punch_postags.split())\n",
    "        settagc = len(row.setup_postags.split())\n",
    "    except:\n",
    "        err+=1\n",
    "        continue\n",
    "        #print(index,'error',row.setup_text,settextc)\n",
    "    if puntextc!=puntagc or settextc!=settagc:\n",
    "        err+=1\n",
    "        #print(index,'error',row.setup_text,settextc)\n",
    "    else:\n",
    "        new_data.append(row.to_dict())\n",
    "print(err)"
   ]
  },
  {
   "cell_type": "code",
   "execution_count": 76,
   "metadata": {},
   "outputs": [],
   "source": [
    "new_df = pd.DataFrame(new_data)"
   ]
  },
  {
   "cell_type": "code",
   "execution_count": 77,
   "metadata": {},
   "outputs": [
    {
     "data": {
      "text/plain": [
       "Index(['Unnamed: 0', 'setup_text', 'setup_postags', 'setup_dep',\n",
       "       'setup_nertype', 'punch_text', 'punch_postags', 'punch_dep',\n",
       "       'punch_nertype'],\n",
       "      dtype='object')"
      ]
     },
     "execution_count": 77,
     "metadata": {},
     "output_type": "execute_result"
    }
   ],
   "source": [
    "new_df.columns"
   ]
  },
  {
   "cell_type": "code",
   "execution_count": 78,
   "metadata": {},
   "outputs": [],
   "source": [
    "new_df = new_df.drop('Unnamed: 0', 1)"
   ]
  },
  {
   "cell_type": "code",
   "execution_count": 79,
   "metadata": {},
   "outputs": [],
   "source": [
    "new_df.to_csv('clean_data.csv')"
   ]
  }
 ],
 "metadata": {
  "kernelspec": {
   "display_name": "Python 3",
   "language": "python",
   "name": "python3"
  },
  "language_info": {
   "codemirror_mode": {
    "name": "ipython",
    "version": 3
   },
   "file_extension": ".py",
   "mimetype": "text/x-python",
   "name": "python",
   "nbconvert_exporter": "python",
   "pygments_lexer": "ipython3",
   "version": "3.8.6"
  }
 },
 "nbformat": 4,
 "nbformat_minor": 4
}
