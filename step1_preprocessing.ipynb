{
 "cells": [
  {
   "cell_type": "code",
   "execution_count": 46,
   "metadata": {},
   "outputs": [],
   "source": [
    "import json\n",
    "with open('reddit_jokes.json') as f:\n",
    "    data = json.load(f)"
   ]
  },
  {
   "cell_type": "code",
   "execution_count": 47,
   "metadata": {},
   "outputs": [],
   "source": [
    "cleaned = []"
   ]
  },
  {
   "cell_type": "code",
   "execution_count": 48,
   "metadata": {},
   "outputs": [
    {
     "name": "stdout",
     "output_type": "stream",
     "text": [
      "249.49776153541708\n"
     ]
    }
   ],
   "source": [
    "items,total_length = 0,0\n",
    "for item in data:\n",
    "    setup = item['body']\n",
    "    punch = item['title']\n",
    "    total_length += len(setup) + len(punch)\n",
    "    items += 1\n",
    "avg = total_length/items\n",
    "print(avg)"
   ]
  },
  {
   "cell_type": "code",
   "execution_count": 49,
   "metadata": {},
   "outputs": [],
   "source": [
    "import spacy\n",
    "nlp = spacy.load(\"en_core_web_sm\")"
   ]
  },
  {
   "cell_type": "code",
   "execution_count": 50,
   "metadata": {},
   "outputs": [],
   "source": [
    "def nlptasks(string):\n",
    "    doc = nlp(string)\n",
    "    string_text, string_postags, string_dep, string_nertype = [],[],[],[]\n",
    "    for token in doc:\n",
    "        string_text.append(token.text)\n",
    "        string_postags.append(token.tag_)\n",
    "        string_dep.append(token.dep_)\n",
    "        if token.ent_type_:\n",
    "            string_nertype.append(token.ent_type_)\n",
    "        else:\n",
    "            string_nertype.append('None')\n",
    "    string_text = ' '.join(string_text)\n",
    "    string_postags = ' '.join(string_postags)\n",
    "    string_dep = ' '.join(string_dep)\n",
    "    string_nertype = ' '.join(string_nertype)\n",
    "    return  string_text, string_postags, string_dep, string_nertype"
   ]
  },
  {
   "cell_type": "code",
   "execution_count": 51,
   "metadata": {},
   "outputs": [],
   "source": [
    "import re\n",
    "def clean(string):\n",
    "    string = string.encode('ascii', 'ignore').decode('ascii')\n",
    "    string = re.sub('^\\[.*\\]','',string)\n",
    "    string = re.sub('^.*:','',string)\n",
    "    string = string.strip()\n",
    "    string = string.strip('\\\"')\n",
    "    string = re.sub('\\?+','?',string)\n",
    "    string = re.sub('!+','!',string)\n",
    "    string = re.sub('\\.+','.',string)\n",
    "    string = re.sub(' +',' ',string)\n",
    "    string = re.sub('\\(.*\\)','',string)\n",
    "    string = string.replace(':)','')\n",
    "    string = string.replace(';)','')\n",
    "    string = string.replace('*','')\n",
    "    string = string.strip()\n",
    "    return string"
   ]
  },
  {
   "cell_type": "code",
   "execution_count": 52,
   "metadata": {},
   "outputs": [
    {
     "data": {
      "text/plain": [
       "'I am a boy from India.'"
      ]
     },
     "execution_count": 52,
     "metadata": {},
     "output_type": "execute_result"
    }
   ],
   "source": [
    "clean(\"I am a boy from India.\")"
   ]
  },
  {
   "cell_type": "code",
   "execution_count": 53,
   "metadata": {},
   "outputs": [],
   "source": [
    "from collections import Counter\n",
    "jokes_length_array = []"
   ]
  },
  {
   "cell_type": "code",
   "execution_count": 54,
   "metadata": {},
   "outputs": [
    {
     "name": "stdout",
     "output_type": "stream",
     "text": [
      "Length of data is 194553\n",
      "4000\n",
      "8000\n",
      "12000\n",
      "16000\n",
      "20000\n",
      "24000\n",
      "28000\n",
      "32000\n",
      "36000\n",
      "40000\n",
      "44000\n",
      "48000\n",
      "48861\n"
     ]
    }
   ],
   "source": [
    "jokes_count, outliers = 0, 0\n",
    "print('Length of data is',len(data))\n",
    "for item in data:\n",
    "    setup = item['title']\n",
    "    punch = item['body']\n",
    "    setup = clean(setup)\n",
    "    punch = clean(punch)\n",
    "    size = len(setup) + len(punch)\n",
    "    if size <= 200:\n",
    "        jokes_length_array.append(size)\n",
    "    else:\n",
    "        outliers+=1\n",
    "        continue\n",
    "    # removing all multi-line jokes, along with a size limit \n",
    "    if ((setup.count('\\n')>1 or punch.count('\\n')>1)) or size<50 or size>100:\n",
    "        continue\n",
    "    if setup and setup[-1]!='?':\n",
    "        continue\n",
    "    entry = {}\n",
    "    setup_text, setup_postags, setup_dep, setup_nertype = nlptasks(setup)\n",
    "    punch_text, punch_postags, punch_dep, punch_nertype = nlptasks(punch)\n",
    "    entry['setup_text'] = setup_text\n",
    "    entry['setup_postags'] = setup_postags\n",
    "    entry['setup_dep'] = setup_dep\n",
    "    entry['setup_nertype'] = setup_nertype\n",
    "    entry['punch_text'] = punch_text\n",
    "    entry['punch_postags'] = punch_postags\n",
    "    entry['punch_dep'] = punch_dep\n",
    "    entry['punch_nertype'] = punch_nertype\n",
    "    cleaned.append(entry)\n",
    "    jokes_count+=1\n",
    "#     if jokes_count==2:\n",
    "#         print(entry)\n",
    "#         break\n",
    "    if jokes_count%4000==0:\n",
    "        print(jokes_count)\n",
    "with open('cleaned_jokes.json', 'w') as fout:\n",
    "    json.dump(cleaned, fout)\n",
    "print(jokes_count)"
   ]
  },
  {
   "cell_type": "code",
   "execution_count": 55,
   "metadata": {
    "scrolled": true
   },
   "outputs": [
    {
     "name": "stdout",
     "output_type": "stream",
     "text": [
      "44378\n",
      "200\n"
     ]
    }
   ],
   "source": [
    "print(outliers)\n",
    "print(max(jokes_length_array))"
   ]
  },
  {
   "cell_type": "code",
   "execution_count": 56,
   "metadata": {},
   "outputs": [],
   "source": [
    "jokes_length = Counter(jokes_length_array)"
   ]
  },
  {
   "cell_type": "code",
   "execution_count": 57,
   "metadata": {},
   "outputs": [
    {
     "data": {
      "image/png": "[encoded data removed]",
      "text/plain": [
       "<Figure size 432x288 with 1 Axes>"
      ]
     },
     "metadata": {
      "needs_background": "light"
     },
     "output_type": "display_data"
    }
   ],
   "source": [
    "import matplotlib.pyplot as plt\n",
    "plt.bar(jokes_length.keys(), jokes_length.values())\n",
    "plt.show()"
   ]
  },
  {
   "cell_type": "code",
   "execution_count": 58,
   "metadata": {},
   "outputs": [
    {
     "name": "stdout",
     "output_type": "stream",
     "text": [
      "[(60, 2115), (62, 2114), (61, 2088), (63, 2062), (68, 2049), (67, 2031), (66, 2027), (70, 2011), (65, 2000), (64, 2000)]\n"
     ]
    }
   ],
   "source": [
    "print(jokes_length.most_common(10))"
   ]
  },
  {
   "cell_type": "code",
   "execution_count": 59,
   "metadata": {},
   "outputs": [],
   "source": [
    "import pandas as pd"
   ]
  },
  {
   "cell_type": "code",
   "execution_count": 60,
   "metadata": {},
   "outputs": [],
   "source": [
    "f = open('cleaned_jokes.json')\n",
    "data = json.load(f)\n",
    "df = pd.DataFrame(data)\n",
    "df.to_csv('cleaned_jokes.csv')"
   ]
  },
  {
   "cell_type": "code",
   "execution_count": null,
   "metadata": {},
   "outputs": [],
   "source": []
  }
 ],
 "metadata": {
  "kernelspec": {
   "display_name": "Python 3",
   "language": "python",
   "name": "python3"
  },
  "language_info": {
   "codemirror_mode": {
    "name": "ipython",
    "version": 3
   },
   "file_extension": ".py",
   "mimetype": "text/x-python",
   "name": "python",
   "nbconvert_exporter": "python",
   "pygments_lexer": "ipython3",
   "version": "3.8.6"
  }
 },
 "nbformat": 4,
 "nbformat_minor": 4
}
